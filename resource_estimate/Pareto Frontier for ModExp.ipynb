{
 "cells": [
  {
   "cell_type": "code",
   "execution_count": 1,
   "id": "19de9166",
   "metadata": {},
   "outputs": [
    {
     "data": {
      "application/javascript": "// Copyright (c) Microsoft Corporation.\n// Licensed under the MIT License.\n\n// This file provides CodeMirror syntax highlighting for Q# magic cells\n// in classic Jupyter Notebooks. It does nothing in other (Jupyter Notebook 7,\n// VS Code, Azure Notebooks, etc.) environments.\n\n// Detect the prerequisites and do nothing if they don't exist.\nif (window.require && window.CodeMirror && window.Jupyter) {\n  // The simple mode plugin for CodeMirror is not loaded by default, so require it.\n  window.require([\"codemirror/addon/mode/simple\"], function defineMode() {\n    let rules = [\n      {\n        token: \"comment\",\n        regex: /(\\/\\/).*/,\n        beginWord: false,\n      },\n      {\n        token: \"string\",\n        regex: String.raw`^\\\"(?:[^\\\"\\\\]|\\\\[\\s\\S])*(?:\\\"|$)`,\n        beginWord: false,\n      },\n      {\n        token: \"keyword\",\n        regex: String.raw`(namespace|open|as|operation|function|body|adjoint|newtype|controlled|internal)\\b`,\n        beginWord: true,\n      },\n      {\n        token: \"keyword\",\n        regex: String.raw`(if|elif|else|repeat|until|fixup|for|in|return|fail|within|apply)\\b`,\n        beginWord: true,\n      },\n      {\n        token: \"keyword\",\n        regex: String.raw`(Adjoint|Controlled|Adj|Ctl|is|self|auto|distribute|invert|intrinsic)\\b`,\n        beginWord: true,\n      },\n      {\n        token: \"keyword\",\n        regex: String.raw`(let|set|use|borrow|mutable)\\b`,\n        beginWord: true,\n      },\n      {\n        token: \"operatorKeyword\",\n        regex: String.raw`(not|and|or)\\b|(w/)`,\n        beginWord: true,\n      },\n      {\n        token: \"operatorKeyword\",\n        regex: String.raw`(=)|(!)|(<)|(>)|(\\+)|(-)|(\\*)|(/)|(\\^)|(%)|(\\|)|(&&&)|(~~~)|(\\.\\.\\.)|(\\.\\.)|(\\?)`,\n        beginWord: false,\n      },\n      {\n        token: \"meta\",\n        regex: String.raw`(Int|BigInt|Double|Bool|Qubit|Pauli|Result|Range|String|Unit)\\b`,\n        beginWord: true,\n      },\n      {\n        token: \"atom\",\n        regex: String.raw`(true|false|Pauli(I|X|Y|Z)|One|Zero)\\b`,\n        beginWord: true,\n      },\n    ];\n    let simpleRules = [];\n    for (let rule of rules) {\n      simpleRules.push({\n        token: rule.token,\n        regex: new RegExp(rule.regex, \"g\"),\n        sol: rule.beginWord,\n      });\n      if (rule.beginWord) {\n        // Need an additional rule due to the fact that CodeMirror simple mode doesn't work with ^ token\n        simpleRules.push({\n          token: rule.token,\n          regex: new RegExp(String.raw`\\W` + rule.regex, \"g\"),\n          sol: false,\n        });\n      }\n    }\n\n    // Register the mode defined above with CodeMirror\n    window.CodeMirror.defineSimpleMode(\"qsharp\", { start: simpleRules });\n    window.CodeMirror.defineMIME(\"text/x-qsharp\", \"qsharp\");\n\n    // Tell Jupyter to associate %%qsharp magic cells with the qsharp mode\n    window.Jupyter.CodeCell.options_default.highlight_modes[\"qsharp\"] = {\n      reg: [/^%%qsharp/],\n    };\n\n    // Force re-highlighting of all cells the first time this code runs\n    for (const cell of window.Jupyter.notebook.get_cells()) {\n      cell.auto_highlight();\n    }\n  });\n}\n",
      "text/plain": []
     },
     "metadata": {},
     "output_type": "display_data"
    }
   ],
   "source": [
    "import qsharp\n",
    "import qsharp_widgets\n",
    "import json\n",
    "from diskcache import Cache\n",
    "import re_utils\n",
    "\n",
    "re_utils.DEBUG = True\n",
    "\n",
    "cache = Cache(\"~/quant-arith-cache/re-multipliers\")\n",
    "qsharp.init(project_root=\"../\")\n",
    "\n",
    "@cache.memoize()\n",
    "def estimate_resources_mod_exp_pareto(op, n):\n",
    "    est = qsharp.estimate(f\"EstimateUtils.RunModExp({n},{op})\", params={\"estimateType\": \"frontier\"})\n",
    "    return est    \n",
    "\n",
    "ops_and_max_n = [\n",
    "  (\"QuantumArithmetic.LYY2021.ModExp\", \"LYY\", 2**9),\n",
    "  (\"QuantumArithmetic.LYY2021.ModExpWindowed(_,_,_,_,1)\", \"LYY-W-1\", 128),\n",
    "  (\"QuantumArithmetic.LYY2021.ModExpWindowed(_,_,_,_,11)\",\"LYY-W-11\", 2**9),\n",
    "  (\"QuantumArithmetic.LYY2021.ModExpWindowedOptimal\", \"LYY-W-Opt\", 2**9),\n",
    "  (\"QuantumArithmetic.LYY2021.ModExpWindowedMontgomery(_,_,_,_,1)\", \"LYY-MW-1\", 128),\n",
    "  (\"QuantumArithmetic.LYY2021.ModExpWindowedMontgomery(_,_,_,_,11)\", \"LYY-MW-11\", 2**9),\n",
    "  (\"QuantumArithmetic.PG2012.EXP_MOD\", \"QFT\", 128)  \n",
    "]"
   ]
  },
  {
   "cell_type": "code",
   "execution_count": 2,
   "id": "9c49131c",
   "metadata": {},
   "outputs": [
    {
     "data": {
      "application/vnd.jupyter.widget-view+json": {
       "model_id": "06ddc300e9f7420ba4ec2789ab32f9ff",
       "version_major": 2,
       "version_minor": 1
      },
      "text/plain": [
       "EstimatesOverview(estimates={0: {'status': 'success', 'jobParams': {'qecScheme': {'name': 'surface_code', 'err…"
      ]
     },
     "execution_count": 2,
     "metadata": {},
     "output_type": "execute_result"
    }
   ],
   "source": [
    "n = 2**5\n",
    "results = {} \n",
    "i = 0 \n",
    "for op, _, _ in ops_and_max_n:\n",
    "    results[i] = estimate_resources_mod_exp_pareto(op, n)\n",
    "    i += 1\n",
    "\n",
    "qsharp_widgets.EstimatesOverview(results, runNames=[name for _, name, _ in ops_and_max_n])"
   ]
  },
  {
   "cell_type": "markdown",
   "id": "16bb1174",
   "metadata": {},
   "source": [
    "The test above was limited to `n=2**5` due to time limitations. However, below is a plot of the results of `n=2**7+1` to show modular exponentation with a largern `n` value."
   ]
  },
  {
   "cell_type": "code",
   "execution_count": 3,
   "id": "3611334c",
   "metadata": {},
   "outputs": [
    {
     "data": {
      "application/vnd.jupyter.widget-view+json": {
       "model_id": "ca71692591904a78b01d42071d06dd5c",
       "version_major": 2,
       "version_minor": 1
      },
      "text/plain": [
       "EstimatesOverview(estimates={0: {'status': 'success', 'jobParams': {'qecScheme': {'name': 'surface_code', 'err…"
      ]
     },
     "execution_count": 3,
     "metadata": {},
     "output_type": "execute_result"
    }
   ],
   "source": [
    "# took 4 minutes to run\n",
    "n = 2**7+1\n",
    "results = {}\n",
    "i = 0\n",
    "for op, _, max_n in ops_and_max_n:\n",
    "    if n <= max_n:\n",
    "        results[i] =  estimate_resources_mod_exp_pareto(op, n)\n",
    "        i += 1\n",
    "\n",
    "qsharp_widgets.EstimatesOverview(results, runNames=[name for _, name, max_n in ops_and_max_n if max_n >= n])"
   ]
  }
 ],
 "metadata": {
  "kernelspec": {
   "display_name": "qsharp",
   "language": "python",
   "name": "python3"
  },
  "language_info": {
   "codemirror_mode": {
    "name": "ipython",
    "version": 3
   },
   "file_extension": ".py",
   "mimetype": "text/x-python",
   "name": "python",
   "nbconvert_exporter": "python",
   "pygments_lexer": "ipython3",
   "version": "3.11.8"
  }
 },
 "nbformat": 4,
 "nbformat_minor": 5
}

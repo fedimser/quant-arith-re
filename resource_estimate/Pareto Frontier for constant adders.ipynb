{
 "cells": [
  {
   "cell_type": "code",
   "execution_count": 9,
   "id": "19de9166",
   "metadata": {},
   "outputs": [],
   "source": [
    "import qsharp\n",
    "import qsharp_widgets\n",
    "import json\n",
    "from diskcache import Cache\n",
    "import re_utils\n",
    "\n",
    "re_utils.DEBUG = True\n",
    "\n",
    "cache = Cache(\"~/quant-arith-cache/re-multipliers\")\n",
    "qsharp.init(project_root=\"../\")\n",
    "\n",
    "@cache.memoize()\n",
    "def estimate_resources_constant_adder_pareto(op, n):\n",
    "    est = qsharp.estimate(f\"EstimateUtils.RunConstantAdder({n},{op})\", params={\"estimateType\": \"frontier\"})\n",
    "    return est    \n",
    "\n",
    "ops_and_max_n = [\n",
    "  (\"Std.Arithmetic.IncByLUsingIncByLE(Std.Arithmetic.RippleCarryTTKIncByLE,_,_)\", \"TTK\", 2**20),\n",
    "  (\"Std.Arithmetic.IncByLUsingIncByLE(Std.Arithmetic.RippleCarryCGIncByLE,_,_)\", \"Gidney\", 2**20),\n",
    "  (\"Std.Arithmetic.IncByLUsingIncByLE(QuantumArithmetic.JHHA2016.Add_Mod2N,_,_)\", \"JHHA\", 2**20),\n",
    "  (\"Std.Arithmetic.IncByLUsingIncByLE(QuantumArithmetic.CDKM2004.Add,_,_)\", \"CDKM\", 2**20),\n",
    "  (\"Std.Arithmetic.IncByLUsingIncByLE(QuantumArithmetic.DKRS2004.Add,_,_)\", \"DKRS\", 2**20),\n",
    "  (\"QuantumArithmetic.ConstAdder.AddConstant\", \"ConstAdder\", 2**20),      \n",
    "  (\"QuantumArithmetic.PG2012.AddConstantQFT\", \"QFT\", 27554),\n",
    "]"
   ]
  },
  {
   "cell_type": "code",
   "execution_count": 10,
   "id": "9c49131c",
   "metadata": {},
   "outputs": [
    {
     "data": {
      "application/vnd.jupyter.widget-view+json": {
       "model_id": "729995ece41a45cd82fc6db85212e0d4",
       "version_major": 2,
       "version_minor": 1
      },
      "text/plain": [
       "EstimatesOverview(estimates={0: {'status': 'success', 'jobParams': {'qecScheme': {'name': 'surface_code', 'err…"
      ]
     },
     "execution_count": 10,
     "metadata": {},
     "output_type": "execute_result"
    }
   ],
   "source": [
    "n = 2**11\n",
    "results = {} \n",
    "i = 0 \n",
    "for op, _, _ in ops_and_max_n:\n",
    "    results[i] = estimate_resources_constant_adder_pareto(op, n)\n",
    "    i += 1\n",
    "\n",
    "qsharp_widgets.EstimatesOverview(results, runNames=[name for _, name, _ in ops_and_max_n])"
   ]
  },
  {
   "cell_type": "markdown",
   "id": "16bb1174",
   "metadata": {},
   "source": [
    "The test above was limited to `n=2**11` due to the QFT based adder. However, below is a plot of the results of `n=2**20` without the QFT constant adder."
   ]
  },
  {
   "cell_type": "code",
   "execution_count": 6,
   "id": "75da1bd7",
   "metadata": {},
   "outputs": [
    {
     "data": {
      "application/vnd.jupyter.widget-view+json": {
       "model_id": "c7d8764ad81d402cb08f9ccc99c15818",
       "version_major": 2,
       "version_minor": 1
      },
      "text/plain": [
       "EstimatesOverview(estimates={0: {'status': 'success', 'jobParams': {'qecScheme': {'name': 'surface_code', 'err…"
      ]
     },
     "execution_count": 6,
     "metadata": {},
     "output_type": "execute_result"
    }
   ],
   "source": [
    "n = 2**20\n",
    "results = {}\n",
    "i = 0\n",
    "for op, _, max_n in ops_and_max_n:\n",
    "    if n <= max_n:\n",
    "        results[i] =  estimate_resources_constant_adder_pareto(op, n)\n",
    "        i += 1\n",
    "\n",
    "qsharp_widgets.EstimatesOverview(results, runNames=[name for _, name, max_n in ops_and_max_n if max_n >= n])"
   ]
  },
  {
   "cell_type": "markdown",
   "id": "1d243169",
   "metadata": {},
   "source": [
    "Since TTK, JHHA, CDKM, and ConstAdder overlap, below is a plot of the pareto frontier with `n=2**3` in order to show the differences."
   ]
  },
  {
   "cell_type": "code",
   "execution_count": 14,
   "id": "aeb00c2c",
   "metadata": {},
   "outputs": [
    {
     "data": {
      "application/vnd.jupyter.widget-view+json": {
       "model_id": "375bee6f11574b0aba4eda796741ed98",
       "version_major": 2,
       "version_minor": 1
      },
      "text/plain": [
       "EstimatesOverview(estimates={0: {'status': 'success', 'jobParams': {'qecScheme': {'name': 'surface_code', 'err…"
      ]
     },
     "execution_count": 14,
     "metadata": {},
     "output_type": "execute_result"
    }
   ],
   "source": [
    "closer_results = {}\n",
    "n = 2**3\n",
    "closer_results[0] = estimate_resources_constant_adder_pareto(\"Std.Arithmetic.IncByLUsingIncByLE(Std.Arithmetic.RippleCarryTTKIncByLE,_,_)\", n)\n",
    "closer_results[1] = estimate_resources_constant_adder_pareto(\"Std.Arithmetic.IncByLUsingIncByLE(QuantumArithmetic.JHHA2016.Add_Mod2N,_,_)\",n)\n",
    "closer_results[2] = estimate_resources_constant_adder_pareto(\"Std.Arithmetic.IncByLUsingIncByLE(QuantumArithmetic.CDKM2004.Add,_,_)\", n)\n",
    "closer_results[3] = estimate_resources_constant_adder_pareto(\"QuantumArithmetic.ConstAdder.AddConstant\", n)\n",
    "\n",
    "qsharp_widgets.EstimatesOverview(closer_results, runNames=[\"TTK\", \"JHHA\", \"CDKM\", \"ConstAdder\"])"
   ]
  }
 ],
 "metadata": {
  "kernelspec": {
   "display_name": "qsharp",
   "language": "python",
   "name": "python3"
  },
  "language_info": {
   "codemirror_mode": {
    "name": "ipython",
    "version": 3
   },
   "file_extension": ".py",
   "mimetype": "text/x-python",
   "name": "python",
   "nbconvert_exporter": "python",
   "pygments_lexer": "ipython3",
   "version": "3.11.8"
  }
 },
 "nbformat": 4,
 "nbformat_minor": 5
}

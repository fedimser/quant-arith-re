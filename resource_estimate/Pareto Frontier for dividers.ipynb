{
 "cells": [
  {
   "cell_type": "code",
   "execution_count": 46,
   "id": "19de9166",
   "metadata": {},
   "outputs": [],
   "source": [
    "import qsharp\n",
    "import qsharp_widgets\n",
    "import json\n",
    "from diskcache import Cache\n",
    "import re_utils\n",
    "\n",
    "re_utils.DEBUG = True\n",
    "\n",
    "cache = Cache(\"~/quant-arith-cache/re-multipliers\")\n",
    "qsharp.init(project_root=\"../lib/\")\n",
    "\n",
    "@cache.memoize()\n",
    "def estimate_resources_divide_pareto(op, n):\n",
    "    if \";\" in op:\n",
    "        divider_type, adder = op.split(\";\")\n",
    "        if divider_type == \"Restoring\":\n",
    "            est = qsharp.estimate(f\"QuantumArithmetic.TMVH2019Test.RunForRE_Restoring({n},{adder})\", params={\"estimateType\": \"frontier\"} )\n",
    "        elif divider_type == \"NonRestoring\":\n",
    "            est = qsharp.estimate(f\"QuantumArithmetic.TMVH2019Test.RunForRE_NonRestoring({n},{adder})\", params={\"estimateType\": \"frontier\"})\n",
    "        else:\n",
    "            raise ValueError(\"Unknown divider_type\")\n",
    "    elif op == \"AKBF2011.Divide_Restoring\":\n",
    "        est = qsharp.estimate(f\"QuantumArithmetic.AKBF2011Test.RunForRE_Divide_Restoring({n})\", params={\"estimateType\" : \"frontier\"})\n",
    "    else:\n",
    "        raise ValueError(\"Unknown op\")\n",
    "    return est\n",
    "\n",
    "ops_and_max_n = [\n",
    "  (\"NonRestoring;Std.Arithmetic.RippleCarryCGIncByLE\", \"NonRestoring+Gidney\", 2**14),\n",
    "  (\"NonRestoring;Std.Arithmetic.RippleCarryTTKIncByLE\", \"NonRestoring+TTK\", 2**14),\n",
    "  (\"NonRestoring;QuantumArithmetic.CDKM2004.Add\", \"NonRestoring+CDKM\", 2**12),\n",
    "  (\"NonRestoring;QuantumArithmetic.JHHA2016.Add_Mod2N\", \"NonRestoring+JHHA\", 2**12),\n",
    "  (\"Restoring;Std.Arithmetic.RippleCarryCGIncByLE\", \"Restoring+Gidney\", 2**12),\n",
    "  (\"Restoring;Std.Arithmetic.RippleCarryTTKIncByLE\", \"Restoring+TTK\", 2**14),\n",
    "  (\"Restoring;QuantumArithmetic.CDKM2004.Add\", \"Restoring+CDKM\", 2**12),\n",
    "  (\"Restoring;QuantumArithmetic.JHHA2016.Add_Mod2N\", \"Restoring+JHHA\", 2**12),\n",
    "  (\"AKBF2011.Divide_Restoring\", \"AKBF\", 2**12),\n",
    "]"
   ]
  },
  {
   "cell_type": "code",
   "execution_count": 50,
   "id": "9c49131c",
   "metadata": {},
   "outputs": [
    {
     "data": {
      "application/vnd.jupyter.widget-view+json": {
       "model_id": "b05dcc8c1add4d6abb328ffadd2083e8",
       "version_major": 2,
       "version_minor": 1
      },
      "text/plain": [
       "EstimatesOverview(estimates={0: {'status': 'success', 'jobParams': {'qecScheme': {'name': 'surface_code', 'err…"
      ]
     },
     "execution_count": 50,
     "metadata": {},
     "output_type": "execute_result"
    }
   ],
   "source": [
    "n = 2**9\n",
    "results = {} \n",
    "i = 0 \n",
    "for op, _, _ in ops_and_max_n:\n",
    "    results[i] = estimate_resources_divide_pareto(op, n)\n",
    "    i += 1\n",
    "\n",
    "qsharp_widgets.EstimatesOverview(results, runNames=[name for _, name, _ in ops_and_max_n])"
   ]
  }
 ],
 "metadata": {
  "kernelspec": {
   "display_name": "qsharp",
   "language": "python",
   "name": "python3"
  },
  "language_info": {
   "codemirror_mode": {
    "name": "ipython",
    "version": 3
   },
   "file_extension": ".py",
   "mimetype": "text/x-python",
   "name": "python",
   "nbconvert_exporter": "python",
   "pygments_lexer": "ipython3",
   "version": "3.11.8"
  }
 },
 "nbformat": 4,
 "nbformat_minor": 5
}

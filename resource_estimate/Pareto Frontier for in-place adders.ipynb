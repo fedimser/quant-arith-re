{
 "cells": [
  {
   "cell_type": "code",
   "execution_count": 18,
   "id": "19de9166",
   "metadata": {},
   "outputs": [],
   "source": [
    "import qsharp\n",
    "import qsharp_widgets\n",
    "import json\n",
    "from diskcache import Cache\n",
    "import re_utils\n",
    "\n",
    "re_utils.DEBUG = True\n",
    "\n",
    "cache = Cache(\"~/quant-arith-cache/re-multipliers\")\n",
    "qsharp.init(project_root=\"../lib/\")\n",
    "\n",
    "@cache.memoize()\n",
    "def estimate_resources_in_place_adder_pareto(op, n):\n",
    "    est = qsharp.estimate(f\"EstimateUtils.RunBinaryOpInPlace({n},{op})\", params={\"estimateType\": \"frontier\"})\n",
    "    return est\n",
    "\n",
    "# These all are in-place adders modulo 2^n.\n",
    "ops_and_max_n = [\n",
    "  (\"Std.Arithmetic.RippleCarryCGIncByLE\", \"Gidney\", 2**20),\n",
    "  (\"Std.Arithmetic.RippleCarryTTKIncByLE\", \"TTK\", 2**20),\n",
    "  (\"QuantumArithmetic.CDKM2004.Add\", \"CDKM\", 2**20),\n",
    "  (\"QuantumArithmetic.DKRS2004.Add\", \"DKRS\", 2**20),\n",
    "  (\"QuantumArithmetic.JHHA2016.Add_Mod2N\", \"JHHA\", 2**20),\n",
    "  (\"QuantumArithmetic.TR2013.Add\", \"TR\", 2**20),\n",
    "  (\"Std.Arithmetic.FourierTDIncByLE\", \"QFT\", 9742),\n",
    "]"
   ]
  },
  {
   "cell_type": "code",
   "execution_count": 23,
   "id": "9c49131c",
   "metadata": {},
   "outputs": [
    {
     "data": {
      "application/vnd.jupyter.widget-view+json": {
       "model_id": "a5f6b9a525ca438c93fa4480a8d45d38",
       "version_major": 2,
       "version_minor": 1
      },
      "text/plain": [
       "EstimatesOverview(estimates={0: {'status': 'success', 'jobParams': {'qecScheme': {'name': 'surface_code', 'err…"
      ]
     },
     "execution_count": 23,
     "metadata": {},
     "output_type": "execute_result"
    }
   ],
   "source": [
    "n = 2**11\n",
    "results = {} \n",
    "i = 0 \n",
    "for op, _, _ in ops_and_max_n:\n",
    "    results[i] = estimate_resources_in_place_adder_pareto(op, n)\n",
    "    i += 1\n",
    "\n",
    "qsharp_widgets.EstimatesOverview(results, runNames=[name for _, name, _ in ops_and_max_n])"
   ]
  },
  {
   "cell_type": "markdown",
   "id": "16bb1174",
   "metadata": {},
   "source": [
    "The test above was limited to `n=2**11` due to the QFT based adder. However, below is a plot of the results of `n=2**20` without the QFT adder."
   ]
  },
  {
   "cell_type": "code",
   "execution_count": 22,
   "id": "3611334c",
   "metadata": {},
   "outputs": [
    {
     "data": {
      "application/vnd.jupyter.widget-view+json": {
       "model_id": "a612af49dbc94e9f9c7ad392085fcdae",
       "version_major": 2,
       "version_minor": 1
      },
      "text/plain": [
       "EstimatesOverview(estimates={0: {'status': 'success', 'jobParams': {'qecScheme': {'name': 'surface_code', 'err…"
      ]
     },
     "execution_count": 22,
     "metadata": {},
     "output_type": "execute_result"
    }
   ],
   "source": [
    "n = 2**20\n",
    "results = {}\n",
    "i = 0\n",
    "for op, _, max_n in ops_and_max_n:\n",
    "    if n <= max_n:\n",
    "        results[i] =  estimate_resources_in_place_adder_pareto(op, n)\n",
    "        i += 1\n",
    "\n",
    "qsharp_widgets.EstimatesOverview(results, runNames=[name for _, name, max_n in ops_and_max_n if max_n >= n])"
   ]
  },
  {
   "cell_type": "markdown",
   "id": "1d243169",
   "metadata": {},
   "source": [
    "Since TTK, CDKM, JHHA, and TR overlap, below is a plot of the pareto frontier with `n=2**3` in order to show the differences."
   ]
  },
  {
   "cell_type": "code",
   "execution_count": 16,
   "id": "aeb00c2c",
   "metadata": {},
   "outputs": [
    {
     "data": {
      "application/vnd.jupyter.widget-view+json": {
       "model_id": "72e7707bbeb84162bd9e0e72a940a023",
       "version_major": 2,
       "version_minor": 1
      },
      "text/plain": [
       "EstimatesOverview(estimates={0: {'status': 'success', 'jobParams': {'qecScheme': {'name': 'surface_code', 'err…"
      ]
     },
     "execution_count": 16,
     "metadata": {},
     "output_type": "execute_result"
    }
   ],
   "source": [
    "closer_results = {}\n",
    "n = 2**3\n",
    "closer_results[0] = estimate_resources_in_place_adder_pareto(\"Std.Arithmetic.RippleCarryTTKIncByLE\", n)\n",
    "closer_results[1] = estimate_resources_in_place_adder_pareto(\"QuantumArithmetic.CDKM2004.Add\",n)\n",
    "closer_results[2] = estimate_resources_in_place_adder_pareto(\"QuantumArithmetic.JHHA2016.Add_Mod2N\", n)\n",
    "closer_results[3] = estimate_resources_in_place_adder_pareto(\"QuantumArithmetic.TR2013.Add\", n)\n",
    "qsharp_widgets.EstimatesOverview(closer_results, runNames=[\"TTK\", \"CDKM\", \"JHHA\", \"TR\"])"
   ]
  }
 ],
 "metadata": {
  "kernelspec": {
   "display_name": "qsharp",
   "language": "python",
   "name": "python3"
  },
  "language_info": {
   "codemirror_mode": {
    "name": "ipython",
    "version": 3
   },
   "file_extension": ".py",
   "mimetype": "text/x-python",
   "name": "python",
   "nbconvert_exporter": "python",
   "pygments_lexer": "ipython3",
   "version": "3.11.8"
  }
 },
 "nbformat": 4,
 "nbformat_minor": 5
}

{
 "cells": [
  {
   "cell_type": "code",
   "execution_count": 20,
   "id": "19de9166",
   "metadata": {},
   "outputs": [],
   "source": [
    "import qsharp\n",
    "import qsharp_widgets\n",
    "import json\n",
    "from diskcache import Cache\n",
    "import re_utils\n",
    "from math import ceil\n",
    "\n",
    "re_utils.DEBUG = True\n",
    "\n",
    "cache = Cache(\"~/quant-arith-cache/re-multipliers\")\n",
    "qsharp.init(project_root=\"../\")\n",
    "\n",
    "@cache.memoize()\n",
    "def estimate_resources_out_of_place_adder_pareto(op, n):\n",
    "    if op == \"QuantumArithmetic.WBC2023.AddWithOp\":\n",
    "        radix = ceil(n / 2)\n",
    "        est = qsharp.estimate(f\"EstimateUtils.RunRadix({n},{radix},{op},Std.Arithmetic.RippleCarryCGAddLE)\", params={\"estimateType\": \"frontier\"})\n",
    "    else:\n",
    "        est = qsharp.estimate(f\"EstimateUtils.Run3WayOp({n},{n},{n},{op})\", params={\"estimateType\": \"frontier\"})\n",
    "    return est\n",
    "  \n",
    "# These all are out-of-place adders modulo 2^n.\n",
    "ops_and_max_n = [\n",
    "  (\"Std.Arithmetic.RippleCarryCGAddLE\", \"Gidney\", 2**20),\n",
    "  (\"Std.Arithmetic.LookAheadDKRSAddLE\", \"DKRS\", 2**20),\n",
    "  (\"QuantumArithmetic.CT2002.Add\", \"CT\", 2**20),\n",
    "  (\"QuantumArithmetic.GKDKH2021.Add_Mod2N\", \"Gayathri\", 2**20),\n",
    "  (\"QuantumArithmetic.WLLQW2016.Add_Mod2N\", \"Wang\", 2**20),      \n",
    "  (\"QuantumArithmetic.WBC2023.AddWithOp\", \"Higher Radix\", 2**20),\n",
    "  (\"QuantumArithmetic.SC2023.Add_Mod2N\", \"Ling Structure\", 110218),\n",
    "]"
   ]
  },
  {
   "cell_type": "code",
   "execution_count": 23,
   "id": "9c49131c",
   "metadata": {},
   "outputs": [
    {
     "data": {
      "application/vnd.jupyter.widget-view+json": {
       "model_id": "6dc3d599de8940f8b64fb05fc3b1ef38",
       "version_major": 2,
       "version_minor": 1
      },
      "text/plain": [
       "EstimatesOverview(estimates={0: {'status': 'success', 'jobParams': {'qecScheme': {'name': 'surface_code', 'err…"
      ]
     },
     "execution_count": 23,
     "metadata": {},
     "output_type": "execute_result"
    }
   ],
   "source": [
    "n = 2**14\n",
    "results = {} \n",
    "i = 0 \n",
    "for op, _, _ in ops_and_max_n:\n",
    "    results[i] = estimate_resources_out_of_place_adder_pareto(op, n)\n",
    "    i += 1\n",
    "\n",
    "qsharp_widgets.EstimatesOverview(results, runNames=[name for _, name, _ in ops_and_max_n])"
   ]
  },
  {
   "cell_type": "markdown",
   "id": "1d243169",
   "metadata": {},
   "source": [
    "The plot above shows two main groups of the adders. In order to show more of the differences, the out of place adders were run again (without the Ling Structure adder) with `n=2**3` to show the differences. Even with the smaller input, Gidney, Gayathri, and Wang all shared the same resources."
   ]
  },
  {
   "cell_type": "code",
   "execution_count": 19,
   "id": "a4883b09",
   "metadata": {},
   "outputs": [
    {
     "data": {
      "application/vnd.jupyter.widget-view+json": {
       "model_id": "dc1433fc625a4a4abb42bad72fb107c2",
       "version_major": 2,
       "version_minor": 1
      },
      "text/plain": [
       "EstimatesOverview(estimates={0: {'status': 'success', 'jobParams': {'qecScheme': {'name': 'surface_code', 'err…"
      ]
     },
     "execution_count": 19,
     "metadata": {},
     "output_type": "execute_result"
    }
   ],
   "source": [
    "n = 2**3\n",
    "n_filter = 2**20\n",
    "results = {} \n",
    "i = 0 \n",
    "for op, _, max_n in ops_and_max_n:\n",
    "    if max_n >= n_filter:\n",
    "        results[i] = estimate_resources_out_of_place_adder_pareto(op, n)\n",
    "        i += 1\n",
    "\n",
    "qsharp_widgets.EstimatesOverview(results, runNames=[name for _, name, max_n in ops_and_max_n if max_n >= n_filter])"
   ]
  }
 ],
 "metadata": {
  "kernelspec": {
   "display_name": "qsharp",
   "language": "python",
   "name": "python3"
  },
  "language_info": {
   "codemirror_mode": {
    "name": "ipython",
    "version": 3
   },
   "file_extension": ".py",
   "mimetype": "text/x-python",
   "name": "python",
   "nbconvert_exporter": "python",
   "pygments_lexer": "ipython3",
   "version": "3.11.8"
  }
 },
 "nbformat": 4,
 "nbformat_minor": 5
}

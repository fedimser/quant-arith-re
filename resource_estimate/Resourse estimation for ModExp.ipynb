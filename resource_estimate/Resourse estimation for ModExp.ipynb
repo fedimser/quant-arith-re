{
 "cells": [
  {
   "cell_type": "code",
   "execution_count": 1,
   "id": "19de9166",
   "metadata": {},
   "outputs": [
    {
     "data": {
      "application/javascript": [
       "// Copyright (c) Microsoft Corporation.\n",
       "// Licensed under the MIT License.\n",
       "\n",
       "// This file provides CodeMirror syntax highlighting for Q# magic cells\n",
       "// in classic Jupyter Notebooks. It does nothing in other (Jupyter Notebook 7,\n",
       "// VS Code, Azure Notebooks, etc.) environments.\n",
       "\n",
       "// Detect the prerequisites and do nothing if they don't exist.\n",
       "if (window.require && window.CodeMirror && window.Jupyter) {\n",
       "  // The simple mode plugin for CodeMirror is not loaded by default, so require it.\n",
       "  window.require([\"codemirror/addon/mode/simple\"], function defineMode() {\n",
       "    let rules = [\n",
       "      {\n",
       "        token: \"comment\",\n",
       "        regex: /(\\/\\/).*/,\n",
       "        beginWord: false,\n",
       "      },\n",
       "      {\n",
       "        token: \"string\",\n",
       "        regex: String.raw`^\\\"(?:[^\\\"\\\\]|\\\\[\\s\\S])*(?:\\\"|$)`,\n",
       "        beginWord: false,\n",
       "      },\n",
       "      {\n",
       "        token: \"keyword\",\n",
       "        regex: String.raw`(namespace|open|as|operation|function|body|adjoint|newtype|controlled|internal)\\b`,\n",
       "        beginWord: true,\n",
       "      },\n",
       "      {\n",
       "        token: \"keyword\",\n",
       "        regex: String.raw`(if|elif|else|repeat|until|fixup|for|in|return|fail|within|apply)\\b`,\n",
       "        beginWord: true,\n",
       "      },\n",
       "      {\n",
       "        token: \"keyword\",\n",
       "        regex: String.raw`(Adjoint|Controlled|Adj|Ctl|is|self|auto|distribute|invert|intrinsic)\\b`,\n",
       "        beginWord: true,\n",
       "      },\n",
       "      {\n",
       "        token: \"keyword\",\n",
       "        regex: String.raw`(let|set|use|borrow|mutable)\\b`,\n",
       "        beginWord: true,\n",
       "      },\n",
       "      {\n",
       "        token: \"operatorKeyword\",\n",
       "        regex: String.raw`(not|and|or)\\b|(w/)`,\n",
       "        beginWord: true,\n",
       "      },\n",
       "      {\n",
       "        token: \"operatorKeyword\",\n",
       "        regex: String.raw`(=)|(!)|(<)|(>)|(\\+)|(-)|(\\*)|(/)|(\\^)|(%)|(\\|)|(&&&)|(~~~)|(\\.\\.\\.)|(\\.\\.)|(\\?)`,\n",
       "        beginWord: false,\n",
       "      },\n",
       "      {\n",
       "        token: \"meta\",\n",
       "        regex: String.raw`(Int|BigInt|Double|Bool|Qubit|Pauli|Result|Range|String|Unit)\\b`,\n",
       "        beginWord: true,\n",
       "      },\n",
       "      {\n",
       "        token: \"atom\",\n",
       "        regex: String.raw`(true|false|Pauli(I|X|Y|Z)|One|Zero)\\b`,\n",
       "        beginWord: true,\n",
       "      },\n",
       "    ];\n",
       "    let simpleRules = [];\n",
       "    for (let rule of rules) {\n",
       "      simpleRules.push({\n",
       "        token: rule.token,\n",
       "        regex: new RegExp(rule.regex, \"g\"),\n",
       "        sol: rule.beginWord,\n",
       "      });\n",
       "      if (rule.beginWord) {\n",
       "        // Need an additional rule due to the fact that CodeMirror simple mode doesn't work with ^ token\n",
       "        simpleRules.push({\n",
       "          token: rule.token,\n",
       "          regex: new RegExp(String.raw`\\W` + rule.regex, \"g\"),\n",
       "          sol: false,\n",
       "        });\n",
       "      }\n",
       "    }\n",
       "\n",
       "    // Register the mode defined above with CodeMirror\n",
       "    window.CodeMirror.defineSimpleMode(\"qsharp\", { start: simpleRules });\n",
       "    window.CodeMirror.defineMIME(\"text/x-qsharp\", \"qsharp\");\n",
       "\n",
       "    // Tell Jupyter to associate %%qsharp magic cells with the qsharp mode\n",
       "    window.Jupyter.CodeCell.options_default.highlight_modes[\"qsharp\"] = {\n",
       "      reg: [/^%%qsharp/],\n",
       "    };\n",
       "\n",
       "    // Force re-highlighting of all cells the first time this code runs\n",
       "    for (const cell of window.Jupyter.notebook.get_cells()) {\n",
       "      cell.auto_highlight();\n",
       "    }\n",
       "  });\n",
       "}\n"
      ],
      "text/plain": []
     },
     "metadata": {},
     "output_type": "display_data"
    },
    {
     "name": "stdout",
     "output_type": "stream",
     "text": [
      "Charts saved to img/modular_exponentiation.png\n"
     ]
    }
   ],
   "source": [
    "import qsharp\n",
    "import json\n",
    "from diskcache import Cache\n",
    "import re_utils\n",
    "\n",
    "re_utils.DEBUG = True\n",
    "\n",
    "cache = Cache(\"~/quant-arith-cache/re-mod-exp\")\n",
    "qsharp.init(project_root=\"../\")\n",
    "\n",
    "@cache.memoize()\n",
    "def estimate_resources_mod_exp(op, n):\n",
    "    est = qsharp.estimate(f\"EstimateUtils.RunModExp({n},{op})\")\n",
    "    return json.dumps(est)    \n",
    "\n",
    "ops_and_max_n = [\n",
    "  (\"QuantumArithmetic.LYY2021.ModExp\", \"LYY\", 2**9),\n",
    "  (\"QuantumArithmetic.LYY2021.ModExpWindowed(_,_,_,_,1)\", \"LYY-W-1\", 128),\n",
    "  (\"QuantumArithmetic.LYY2021.ModExpWindowed(_,_,_,_,11)\",\"LYY-W-11\", 2**9),\n",
    "  (\"QuantumArithmetic.LYY2021.ModExpWindowedOptimal\", \"LYY-W-Opt\", 2**9),\n",
    "  (\"QuantumArithmetic.LYY2021.ModExpWindowedMontgomery(_,_,_,_,1)\", \"LYY-MW-1\", 128),\n",
    "  (\"QuantumArithmetic.LYY2021.ModExpWindowedMontgomery(_,_,_,_,11)\", \"LYY-MW-11\", 2**9),\n",
    "  (\"QuantumArithmetic.PG2012.EXP_MOD\", \"QFT\", 128)  \n",
    "]\n",
    "\n",
    "re_utils.run_re_experiments(\n",
    "    ops_and_max_n, \n",
    "    estimate_resources_mod_exp,\n",
    "    title='Modular exponentiation')"
   ]
  },
  {
   "cell_type": "code",
   "execution_count": 2,
   "id": "3d4efc9a",
   "metadata": {},
   "outputs": [
    {
     "name": "stdout",
     "output_type": "stream",
     "text": [
      "n=128\n"
     ]
    },
    {
     "data": {
      "text/html": [
       "<style type=\"text/css\">\n",
       "#T_5b309_row0_col1, #T_5b309_row0_col2, #T_5b309_row3_col3, #T_5b309_row3_col4 {\n",
       "  background-color: lightgreen;\n",
       "}\n",
       "</style>\n",
       "<table id=\"T_5b309\">\n",
       "  <thead>\n",
       "    <tr>\n",
       "      <th class=\"blank level0\" >&nbsp;</th>\n",
       "      <th id=\"T_5b309_level0_col0\" class=\"col_heading level0 col0\" >Algorithm</th>\n",
       "      <th id=\"T_5b309_level0_col1\" class=\"col_heading level0 col1\" >Logical qubits</th>\n",
       "      <th id=\"T_5b309_level0_col2\" class=\"col_heading level0 col2\" >Physical qubits</th>\n",
       "      <th id=\"T_5b309_level0_col3\" class=\"col_heading level0 col3\" >Logical depth</th>\n",
       "      <th id=\"T_5b309_level0_col4\" class=\"col_heading level0 col4\" >Runtime, seconds</th>\n",
       "    </tr>\n",
       "  </thead>\n",
       "  <tbody>\n",
       "    <tr>\n",
       "      <th id=\"T_5b309_level0_row0\" class=\"row_heading level0 row0\" >0</th>\n",
       "      <td id=\"T_5b309_row0_col0\" class=\"data row0 col0\" >LYY</td>\n",
       "      <td id=\"T_5b309_row0_col1\" class=\"data row0 col1\" >1361</td>\n",
       "      <td id=\"T_5b309_row0_col2\" class=\"data row0 col2\" >2517458</td>\n",
       "      <td id=\"T_5b309_row0_col3\" class=\"data row0 col3\" >145729566</td>\n",
       "      <td id=\"T_5b309_row0_col4\" class=\"data row0 col4\" >1573.879313</td>\n",
       "    </tr>\n",
       "    <tr>\n",
       "      <th id=\"T_5b309_level0_row1\" class=\"row_heading level0 row1\" >1</th>\n",
       "      <td id=\"T_5b309_row1_col0\" class=\"data row1 col0\" >LYY-W-1</td>\n",
       "      <td id=\"T_5b309_row1_col1\" class=\"data row1 col1\" >67086</td>\n",
       "      <td id=\"T_5b309_row1_col2\" class=\"data row1 col2\" >113371772</td>\n",
       "      <td id=\"T_5b309_row1_col3\" class=\"data row1 col3\" >244054125</td>\n",
       "      <td id=\"T_5b309_row1_col4\" class=\"data row1 col4\" >2831.027850</td>\n",
       "    </tr>\n",
       "    <tr>\n",
       "      <th id=\"T_5b309_level0_row2\" class=\"row_heading level0 row2\" >2</th>\n",
       "      <td id=\"T_5b309_row2_col0\" class=\"data row2 col0\" >LYY-W-11</td>\n",
       "      <td id=\"T_5b309_row2_col1\" class=\"data row2 col1\" >7347</td>\n",
       "      <td id=\"T_5b309_row2_col2\" class=\"data row2 col2\" >9750190</td>\n",
       "      <td id=\"T_5b309_row2_col3\" class=\"data row2 col3\" >22193781</td>\n",
       "      <td id=\"T_5b309_row2_col4\" class=\"data row2 col4\" >221.937810</td>\n",
       "    </tr>\n",
       "    <tr>\n",
       "      <th id=\"T_5b309_level0_row3\" class=\"row_heading level0 row3\" >3</th>\n",
       "      <td id=\"T_5b309_row3_col0\" class=\"data row3 col0\" >LYY-W-Opt</td>\n",
       "      <td id=\"T_5b309_row3_col1\" class=\"data row3 col1\" >6310</td>\n",
       "      <td id=\"T_5b309_row3_col2\" class=\"data row3 col2\" >8453940</td>\n",
       "      <td id=\"T_5b309_row3_col3\" class=\"data row3 col3\" >19363945</td>\n",
       "      <td id=\"T_5b309_row3_col4\" class=\"data row3 col4\" >193.639450</td>\n",
       "    </tr>\n",
       "    <tr>\n",
       "      <th id=\"T_5b309_level0_row4\" class=\"row_heading level0 row4\" >4</th>\n",
       "      <td id=\"T_5b309_row4_col0\" class=\"data row4 col0\" >LYY-MW-1</td>\n",
       "      <td id=\"T_5b309_row4_col1\" class=\"data row4 col1\" >67351</td>\n",
       "      <td id=\"T_5b309_row4_col2\" class=\"data row4 col2\" >129915102</td>\n",
       "      <td id=\"T_5b309_row4_col3\" class=\"data row4 col3\" >292587510</td>\n",
       "      <td id=\"T_5b309_row4_col4\" class=\"data row4 col4\" >3628.085124</td>\n",
       "    </tr>\n",
       "    <tr>\n",
       "      <th id=\"T_5b309_level0_row5\" class=\"row_heading level0 row5\" >5</th>\n",
       "      <td id=\"T_5b309_row5_col0\" class=\"data row5 col0\" >LYY-MW-11</td>\n",
       "      <td id=\"T_5b309_row5_col1\" class=\"data row5 col1\" >7614</td>\n",
       "      <td id=\"T_5b309_row5_col2\" class=\"data row5 col2\" >11601012</td>\n",
       "      <td id=\"T_5b309_row5_col3\" class=\"data row5 col3\" >26571302</td>\n",
       "      <td id=\"T_5b309_row5_col4\" class=\"data row5 col4\" >286.970062</td>\n",
       "    </tr>\n",
       "    <tr>\n",
       "      <th id=\"T_5b309_level0_row6\" class=\"row_heading level0 row6\" >6</th>\n",
       "      <td id=\"T_5b309_row6_col0\" class=\"data row6 col0\" >QFT</td>\n",
       "      <td id=\"T_5b309_row6_col1\" class=\"data row6 col1\" >2665</td>\n",
       "      <td id=\"T_5b309_row6_col2\" class=\"data row6 col2\" >18858410</td>\n",
       "      <td id=\"T_5b309_row6_col3\" class=\"data row6 col3\" >786327562</td>\n",
       "      <td id=\"T_5b309_row6_col4\" class=\"data row6 col4\" >9121.399719</td>\n",
       "    </tr>\n",
       "  </tbody>\n",
       "</table>\n"
      ],
      "text/plain": [
       "<pandas.io.formats.style.Styler at 0x7f58b7785c70>"
      ]
     },
     "execution_count": 2,
     "metadata": {},
     "output_type": "execute_result"
    }
   ],
   "source": [
    "re_utils.show_re_table(\n",
    "    ops_and_max_n, \n",
    "    estimate_resources_mod_exp, 128)"
   ]
  },
  {
   "cell_type": "code",
   "execution_count": 3,
   "id": "da84e13f",
   "metadata": {},
   "outputs": [
    {
     "data": {
      "text/html": [
       "<div>\n",
       "<style scoped>\n",
       "    .dataframe tbody tr th:only-of-type {\n",
       "        vertical-align: middle;\n",
       "    }\n",
       "\n",
       "    .dataframe tbody tr th {\n",
       "        vertical-align: top;\n",
       "    }\n",
       "\n",
       "    .dataframe thead th {\n",
       "        text-align: right;\n",
       "    }\n",
       "</style>\n",
       "<table border=\"1\" class=\"dataframe\">\n",
       "  <thead>\n",
       "    <tr style=\"text-align: right;\">\n",
       "      <th></th>\n",
       "      <th>Algorithm</th>\n",
       "      <th>Logical qubits</th>\n",
       "      <th>Physical qubits</th>\n",
       "      <th>Logical depth</th>\n",
       "      <th>Runtime, seconds</th>\n",
       "    </tr>\n",
       "  </thead>\n",
       "  <tbody>\n",
       "    <tr>\n",
       "      <th>0</th>\n",
       "      <td>LYY</td>\n",
       "      <td>1.3452e+01 * n^0.9538</td>\n",
       "      <td>3.3547e+04 * n^0.9067</td>\n",
       "      <td>3.4596e+01 * n^3.1330</td>\n",
       "      <td>1.8063e-04 * n^3.2739</td>\n",
       "    </tr>\n",
       "    <tr>\n",
       "      <th>1</th>\n",
       "      <td>LYY-W-1</td>\n",
       "      <td>5.7264e+00 * n^1.9269</td>\n",
       "      <td>3.4088e+03 * n^2.1468</td>\n",
       "      <td>9.4644e+01 * n^3.0451</td>\n",
       "      <td>4.9759e-04 * n^3.2153</td>\n",
       "    </tr>\n",
       "    <tr>\n",
       "      <th>2</th>\n",
       "      <td>LYY-W-11</td>\n",
       "      <td>2.0971e+00 * n^1.7011</td>\n",
       "      <td>1.9107e+03 * n^1.8071</td>\n",
       "      <td>1.4133e+01 * n^2.9461</td>\n",
       "      <td>6.6399e-05 * n^3.1072</td>\n",
       "    </tr>\n",
       "    <tr>\n",
       "      <th>3</th>\n",
       "      <td>LYY-W-Opt</td>\n",
       "      <td>3.9487e+00 * n^1.5304</td>\n",
       "      <td>3.6171e+03 * n^1.6317</td>\n",
       "      <td>2.3144e+01 * n^2.8054</td>\n",
       "      <td>1.0664e-04 * n^2.9681</td>\n",
       "    </tr>\n",
       "    <tr>\n",
       "      <th>4</th>\n",
       "      <td>LYY-MW-1</td>\n",
       "      <td>6.1046e+00 * n^1.9138</td>\n",
       "      <td>3.4278e+03 * n^2.1539</td>\n",
       "      <td>1.3265e+02 * n^3.0110</td>\n",
       "      <td>6.8593e-04 * n^3.1885</td>\n",
       "    </tr>\n",
       "    <tr>\n",
       "      <th>5</th>\n",
       "      <td>LYY-MW-11</td>\n",
       "      <td>2.6080e+00 * n^1.6654</td>\n",
       "      <td>2.2314e+03 * n^1.7881</td>\n",
       "      <td>1.7453e+01 * n^2.9399</td>\n",
       "      <td>8.4112e-05 * n^3.0988</td>\n",
       "    </tr>\n",
       "    <tr>\n",
       "      <th>6</th>\n",
       "      <td>QFT</td>\n",
       "      <td>2.4629e+01 * n^0.9642</td>\n",
       "      <td>6.0034e+05 * n^0.7497</td>\n",
       "      <td>7.1299e+03 * n^2.4111</td>\n",
       "      <td>4.7093e-02 * n^2.5270</td>\n",
       "    </tr>\n",
       "  </tbody>\n",
       "</table>\n",
       "</div>"
      ],
      "text/plain": [
       "   Algorithm         Logical qubits        Physical qubits  \\\n",
       "0        LYY  1.3452e+01 * n^0.9538  3.3547e+04 * n^0.9067   \n",
       "1    LYY-W-1  5.7264e+00 * n^1.9269  3.4088e+03 * n^2.1468   \n",
       "2   LYY-W-11  2.0971e+00 * n^1.7011  1.9107e+03 * n^1.8071   \n",
       "3  LYY-W-Opt  3.9487e+00 * n^1.5304  3.6171e+03 * n^1.6317   \n",
       "4   LYY-MW-1  6.1046e+00 * n^1.9138  3.4278e+03 * n^2.1539   \n",
       "5  LYY-MW-11  2.6080e+00 * n^1.6654  2.2314e+03 * n^1.7881   \n",
       "6        QFT  2.4629e+01 * n^0.9642  6.0034e+05 * n^0.7497   \n",
       "\n",
       "           Logical depth       Runtime, seconds  \n",
       "0  3.4596e+01 * n^3.1330  1.8063e-04 * n^3.2739  \n",
       "1  9.4644e+01 * n^3.0451  4.9759e-04 * n^3.2153  \n",
       "2  1.4133e+01 * n^2.9461  6.6399e-05 * n^3.1072  \n",
       "3  2.3144e+01 * n^2.8054  1.0664e-04 * n^2.9681  \n",
       "4  1.3265e+02 * n^3.0110  6.8593e-04 * n^3.1885  \n",
       "5  1.7453e+01 * n^2.9399  8.4112e-05 * n^3.0988  \n",
       "6  7.1299e+03 * n^2.4111  4.7093e-02 * n^2.5270  "
      ]
     },
     "execution_count": 3,
     "metadata": {},
     "output_type": "execute_result"
    }
   ],
   "source": [
    "re_utils.trendline_analysis(\n",
    "    ops_and_max_n, \n",
    "    estimate_resources_mod_exp, min_n=16)"
   ]
  },
  {
   "cell_type": "markdown",
   "id": "33959133",
   "metadata": {},
   "source": [
    "## Finding the optimal window size\n",
    "\n",
    "Complexity of windowed modular exponentiation is \n",
    "\n",
    "$$T(n, m)=(c_1 \\cdot 2^m + c_2 \\cdot n^2) \\cdot \\frac{n}{m} = c_1 \\cdot 2^m \\cdot \\frac{n}{m} + c_2 \\cdot \\frac{n^3}{m}.$$\n",
    "\n",
    "We can fit values $c_1$ and $c_2$ to the experimental data using least squares. Let's use $m=5 \\dots 15$, $n = 2m \\dots 3m$."
   ]
  },
  {
   "cell_type": "code",
   "execution_count": 4,
   "id": "cfef7f98",
   "metadata": {},
   "outputs": [
    {
     "name": "stdout",
     "output_type": "stream",
     "text": [
      "c1=6.26437e-05, c2=1.01564e-03\n"
     ]
    }
   ],
   "source": [
    "import numpy as np    \n",
    "from matplotlib import pyplot as plt\n",
    "\n",
    "def T_experiment(n,m):\n",
    "    op = f\"QuantumArithmetic.LYY2021.ModExpWindowedMontgomery(_,_,_,_,{m})\"\n",
    "    est = json.loads(estimate_resources_mod_exp(op,n))\n",
    "    return est['physicalCounts']['runtime']/10**9\n",
    "        \n",
    "X = []\n",
    "Y=[]\n",
    "for m in range(5, 16):\n",
    "    for n in range(2*m, 3*m+1):\n",
    "        X.append([2**m * (n/m), n**3/m])\n",
    "        Y.append(T_experiment(n,m))\n",
    "        #print(m, n)\n",
    "        \n",
    "(c1,c2), _, _, _ = np.linalg.lstsq(X, Y, rcond=None)\n",
    "print(f\"c1={c1:.5e}, c2={c2:.5e}\")\n"
   ]
  },
  {
   "cell_type": "markdown",
   "id": "c8e9bc8f",
   "metadata": {},
   "source": [
    "Let's verify this prediction."
   ]
  },
  {
   "cell_type": "code",
   "execution_count": 5,
   "id": "b4e071df",
   "metadata": {},
   "outputs": [
    {
     "data": {
      "image/png": "[encoded data removed]",
      "text/plain": [
       "<Figure size 640x480 with 1 Axes>"
      ]
     },
     "metadata": {},
     "output_type": "display_data"
    }
   ],
   "source": [
    "def T_prediction(n,m):\n",
    "    return (c1*2**m +c2*n**2)*(n/m)\n",
    "\n",
    "n=32\n",
    "T_exp, T_pred=[], []\n",
    "m_range = list(range(1,16))\n",
    "for m in m_range:\n",
    "    T_exp.append(T_experiment(n,m))\n",
    "    T_pred.append(T_prediction(n,m))\n",
    "    \n",
    "plt.plot(m_range, T_exp, label='Resource estimation')\n",
    "plt.plot(m_range, T_pred, label='Prediction by formula')\n",
    "plt.legend()\n",
    "plt.xlabel(\"Window size\")\n",
    "plt.ylabel(\"Runtime, seconds\")\n",
    "plt.title(f\"Accuracy of predicted runtime for ModExp, n={n}\")\n",
    "plt.show()"
   ]
  },
  {
   "cell_type": "markdown",
   "id": "62caf05b",
   "metadata": {},
   "source": [
    "Now, we can use the approximate formula for $T$ to find optimal window size for given n. We could use condition $\\frac{\\partial T}{\\partial m}= 0$ and get explicit formula, but it's easier to just numerically optimize it.    "
   ]
  },
  {
   "cell_type": "code",
   "execution_count": 6,
   "id": "129deff3",
   "metadata": {},
   "outputs": [
    {
     "data": {
      "image/png": "[encoded data removed]",
      "text/plain": [
       "<Figure size 640x480 with 1 Axes>"
      ]
     },
     "metadata": {},
     "output_type": "display_data"
    },
    {
     "name": "stdout",
     "output_type": "stream",
     "text": [
      "Max error 2.081\n"
     ]
    }
   ],
   "source": [
    "def get_optimal_window_size(n):\n",
    "    return 1+np.argmin([T_prediction(n,m) for m in range(1,min(300,n+1))])\n",
    "\n",
    "n_range = re_utils.DEFAULT_N_RANGE\n",
    "plt.plot(n_range, [get_optimal_window_size(i) for i in n_range], label='Numerical')\n",
    "plt.plot(n_range, 2*np.log2(n_range), label='2 log_2(n)')\n",
    "plt.xscale('log')\n",
    "plt.xlabel('n')\n",
    "plt.ylabel('Optimal window size')\n",
    "plt.title('Optimal window size for modular exponentiation')\n",
    "plt.legend()\n",
    "plt.show()\n",
    "\n",
    "print(\"Max error %.03f\" % max([np.abs(get_optimal_window_size(n)-(2*np.log2(n))) for n in n_range]))"
   ]
  },
  {
   "cell_type": "markdown",
   "id": "abdffeb8",
   "metadata": {},
   "source": [
    "We could get this theoretically as well:\n",
    "\n",
    "$$\\frac{\\partial T}{\\partial m} = \\frac{c_1 \\cdot 2^m  \\cdot n  (m \\cdot \\log(2)-1)-c_2 \\cdot n^3}{m^2} =0$$\n",
    "\n",
    "$$c_1 \\cdot 2^m \\cdot n \\cdot ( m \\cdot \\log(2) -1 ) - c_2 n^3  =0$$\n",
    "\n",
    "$$ 2^m \\cdot ( m \\cdot \\log(2) -1 ) = \\frac{c_2}{c_1} n^2  =0$$\n",
    "\n",
    "Take $\\log_2$ of both parts:\n",
    "\n",
    "$$m + \\log_2(m \\cdot \\log(2) -1) = \\log_2{(c_2/c_1)} + 2 \\log_2(n). $$\n",
    "\n",
    "From the fitted data, $\\log_2{(c_2/c_1)} \\approx 4.02$. For $m \\in [2, 40]$, $\\log_2(m \\cdot \\log(2) -1) \\in [-1.37, 4.70]$. So, approximately, $m^* \\approx 2 \\log_2(n)$."
   ]
  }
 ],
 "metadata": {
  "kernelspec": {
   "display_name": "Python 3 (ipykernel)",
   "language": "python",
   "name": "python3"
  },
  "language_info": {
   "codemirror_mode": {
    "name": "ipython",
    "version": 3
   },
   "file_extension": ".py",
   "mimetype": "text/x-python",
   "name": "python",
   "nbconvert_exporter": "python",
   "pygments_lexer": "ipython3",
   "version": "3.12.3"
  }
 },
 "nbformat": 4,
 "nbformat_minor": 5
}

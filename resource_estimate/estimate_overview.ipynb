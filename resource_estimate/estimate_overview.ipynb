{
 "cells": [
  {
   "cell_type": "code",
   "execution_count": null,
   "metadata": {},
   "outputs": [],
   "source": [
    "import qsharp\n",
    "import random\n",
    "from qsharp_widgets import EstimatesOverview\n",
    "\n",
    "qsharp.init(project_root=\"../\")\n",
    "\n",
    "op = \"QuantumArithmetic.SC2023.Add\"\n",
    "for n in [2, 3, 4, 5, 8, 9, 16, 17, 32, 33]:\n",
    "    x, y = random.randint(0, 2**n - 1), random.randint(0, 2**n - 1)\n",
    "    estimates = qsharp.estimate(\n",
    "        f\"EstimateUtils.BinaryOpExtraOut({n},{x},{y},{op})\",\n",
    "        [\n",
    "            {\"errorBudget\": 0.333, \"qubitParams\": {\"name\": \"qubit_gate_ns_e3\"}},\n",
    "            {\"errorBudget\": 0.333, \"qubitParams\": {\"name\": \"qubit_gate_ns_e4\"}},\n",
    "            {\"errorBudget\": 0.333, \"qubitParams\": {\"name\": \"qubit_gate_us_e3\"}},\n",
    "            {\"errorBudget\": 0.333, \"qubitParams\": {\"name\": \"qubit_gate_us_e4\"}},\n",
    "            {\n",
    "                \"errorBudget\": 0.333,\n",
    "                \"qubitParams\": {\"name\": \"qubit_maj_ns_e4\"},\n",
    "                \"qecScheme\": {\"name\": \"floquet_code\"},\n",
    "            },\n",
    "            {\n",
    "                \"errorBudget\": 0.333,\n",
    "                \"qubitParams\": {\"name\": \"qubit_maj_ns_e6\"},\n",
    "                \"qecScheme\": {\"name\": \"floquet_code\"},\n",
    "            },\n",
    "        ],\n",
    "    )\n",
    "EstimatesOverview(\n",
    "    estimates,\n",
    "    colors=[\"#1f77b4\", \"#ff7f0e\", \"blue\", \"red\", \"green\", \"yellow\"],\n",
    "    runNames=[\n",
    "        \"Gate ns e3, surface\",\n",
    "        \"Gate ns e4, surface\",\n",
    "        \"Gate us e3, surface\",\n",
    "        \"Gate us e4, surface\",\n",
    "        \"Majorana ns e4, floquet\",\n",
    "        \"Majorana ns e6, floquet\",\n",
    "    ],\n",
    ")"
   ]
  },
  {
   "cell_type": "code",
   "execution_count": null,
   "metadata": {},
   "outputs": [],
   "source": []
  }
 ],
 "metadata": {
  "kernelspec": {
   "display_name": "qsharp",
   "language": "python",
   "name": "python3"
  },
  "language_info": {
   "codemirror_mode": {
    "name": "ipython",
    "version": 3
   },
   "file_extension": ".py",
   "mimetype": "text/x-python",
   "name": "python",
   "nbconvert_exporter": "python",
   "pygments_lexer": "ipython3",
   "version": "3.13.0"
  }
 },
 "nbformat": 4,
 "nbformat_minor": 2
}
